{
 "cells": [
  {
   "cell_type": "markdown",
   "metadata": {},
   "source": [
    "# Welcome to tmenv\n",
    "\n",
    "> Gym like environment for the game Trackmania 2020"
   ]
  },
  {
   "cell_type": "markdown",
   "metadata": {},
   "source": [
    "## Disclaimer\n",
    "\n",
    "This project is not actively maintained, may be outdated, and support is not guaranteed. For potential assistance, try reaching out on [Discord](https://discord.gg/cQyC4ydY).\n",
    "\n",
    "**About PedroAI**  \n",
    "tmenv is part of the PedroAI project ([trackmania-ai](https://github.com/trackmania-ai) on github), which I began in April 2020. I streamed AI training on [Twitch](https://www.twitch.tv/pedroaitm) from April 2021 to September 2023. I've since moved on to other projects and decided to open-source PedroAI. For more details, check the [blog](https://www.trackmania.ai/blog/).\n",
    "\n",
    "**Platform & Tools**  \n",
    "tmenv is intended for Linux (tested on Ubuntu 23.04) and uses [nbdev](https://nbdev.fast.ai/getting_started.html) for development.\n"
   ]
  },
  {
   "cell_type": "markdown",
   "metadata": {},
   "source": [
    "## Requirements\n",
    "\n",
    "Have firejail, conda, pytorch and torchvision installed.\n",
    "\n",
    "- Firejail is used to sandbox each environment and hide other environment input devices. Install it with `sudo apt-get install firejail`.\n",
    "- I use miniconda to install conda https://docs.conda.io/en/latest/miniconda.html.\n",
    "- I install pytorch and torchvision following https://pytorch.org/get-started/locally/."
   ]
  },
  {
   "cell_type": "markdown",
   "metadata": {},
   "source": [
    "## Installing tmenv\n",
    "tmenv is not packaged yet and require an [editable install](https://stackoverflow.com/questions/35064426/when-would-the-e-editable-option-be-useful-with-pip-install). To install, clone this repo and run: `pip install -e \".[dev]\"`."
   ]
  },
  {
   "cell_type": "markdown",
   "metadata": {},
   "source": [
    "## Installing Wine Prefix\n",
    "\n",
    "1) Install this version of wine https://github.com/GloriousEggroll/wine-ge-custom/releases/tag/GE-Proton8-13\n",
    "\n",
    "- Download the tar.xz archive and extract its content where you like on your system\n",
    "- Add `export PATH=\"$HOME/path/to/archive/content/lutris-GE-Proton8-13-x86_64/bin:$PATH\"` to your bashrc file to make this your default wine install\n",
    "\n",
    "2) Download and unzip the wine prefix template from [here](https://e1.pcloud.link/publink/show?code=kZTHsFZqpiSB9EKm1H28V7L0rUhMFCl80Qk)\n",
    "3) Run the following command to launch the template: `USER=tmuser WINEPREFIX=/path/to/prefix/template wine explorer /desktop=template,1920x1080`\n",
    "4) Log with your Ubisoft Connect and change the following settings\n",
    "\n",
    "- General : Disable all except Enable cloud save ...\n",
    "- Notifications : Disable all\n",
    "- Account linking : Disable all\n",
    "\n",
    "5) Start Trackmania and change the following settings\n",
    "\n",
    "- VIDEO\n",
    "  - DISPLAY MODE : WINDOWED BORDERLESS\n",
    "  - DYNAMIC RESOLUTION : DISABLED\n",
    "  - FRAME RATE LIMIT : 150\n",
    "  - V-SYNC : NONE\n",
    "  - GPU & CPU SYNCHRONIZATION : NONE\n",
    "  - CUSTOMIZE ADVANCED VIDEO SETTINGS : ENABLED\n",
    "  - NICE ANTIALIASING : NONE\n",
    "  - PRESET : VERY FAST\n",
    "  - MOTION BLUR : DISABLED\n",
    "- SOUND\n",
    "  - ENABLE AUDIO : DISABLED\n",
    "- CONTROLS\n",
    "  - ANALOG DEAD ZONE : 0\n",
    "- HUD\n",
    "  - VISIBILITY OF THE CAR IN COCKPIT VIEW : TRANSPARENT\n",
    "  - DEFAULT OPPONENT VISIBILITY : HIDDEN\n",
    "- SYSTEM\n",
    "  - SKIP THE START-UP SCREENS : ENABLED\n",
    "\n",
    "6) Start a race and change the camera to cockpit view (cam 3) and toggle ghost view by typing 'g' once.\n",
    "7) Configure the gamepad by running the script `python configure_gamepad.py name`. Change `name` with the name that you will use for trackmania environments. I use tmai1, tmai2, ... Then open the binding prompt the script ask you to open in game. Press enter in the script to press the corresponding button in game. Repeat for each bind.\n",
    "8) Exit the game and Ubisoft Connect to close wine.\n",
    "9) Save the file under `/path/to/template/drive_c/users/tmuser/AppData/Local/Ubisoft Game Launcher/user.dat` somewhere else on your system. It is the file that store your Ubisoft Connect token. When using tmenv you should specify the path to the copy of that file in `credential_path` argument.\n",
    "10) If you plan to launch several tmenv environments at the same time, repeat steps 3 to 8 for each Ubisoft Connect account you want to use for your environments."
   ]
  },
  {
   "cell_type": "markdown",
   "metadata": {},
   "source": [
    "## Enabling uinput\n",
    "\n",
    "tmenv uses python-evdev to create virtual gamepads. Your user need to be able to write to `/dev/uinput`. To do that :\n",
    "\n",
    "1) Create the file `/etc/udev/rules.d/99-uinput.rules` with root privilege and write `KERNEL==\"uinput\", GROUP:=\"input\", MODE:=\"0660\"` inside\n",
    "2) Add input group to your user with `sudo usermod -a -G input $USER`\n",
    "3) Restart your computer"
   ]
  },
  {
   "cell_type": "markdown",
   "metadata": {},
   "source": [
    "## Optimizing input latency\n",
    "\n",
    "I gained a few milliseconds of input lag by installing Liquorix Kernel https://liquorix.net."
   ]
  },
  {
   "cell_type": "markdown",
   "metadata": {},
   "source": []
  }
 ],
 "metadata": {
  "kernelspec": {
   "display_name": "python3",
   "language": "python",
   "name": "python3"
  }
 },
 "nbformat": 4,
 "nbformat_minor": 4
}
